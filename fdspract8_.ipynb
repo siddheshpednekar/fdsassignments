{
  "nbformat": 4,
  "nbformat_minor": 5,
  "metadata": {
    "kernelspec": {
      "display_name": "Python 3",
      "language": "python",
      "name": "python3"
    },
    "language_info": {
      "codemirror_mode": {
        "name": "ipython",
        "version": 3
      },
      "file_extension": ".py",
      "mimetype": "text/x-python",
      "name": "python",
      "nbconvert_exporter": "python",
      "pygments_lexer": "ipython3",
      "version": "3.8.8"
    },
    "colab": {
      "name": "fdspract8 .ipynb",
      "provenance": [],
      "collapsed_sections": []
    }
  },
  "cells": [
    {
      "cell_type": "code",
      "metadata": {
        "id": "5c67fd06"
      },
      "source": [
        "import pandas as pd"
      ],
      "id": "5c67fd06",
      "execution_count": null,
      "outputs": []
    },
    {
      "cell_type": "code",
      "metadata": {
        "id": "74c96f7e"
      },
      "source": [
        "df=pd.read_csv('./stats.csv')"
      ],
      "id": "74c96f7e",
      "execution_count": null,
      "outputs": []
    },
    {
      "cell_type": "code",
      "metadata": {
        "id": "0f6d7064",
        "outputId": "0d3d5027-6174-491a-9524-a4fb3124ca64"
      },
      "source": [
        "df"
      ],
      "id": "0f6d7064",
      "execution_count": null,
      "outputs": [
        {
          "data": {
            "text/html": [
              "<div>\n",
              "<style scoped>\n",
              "    .dataframe tbody tr th:only-of-type {\n",
              "        vertical-align: middle;\n",
              "    }\n",
              "\n",
              "    .dataframe tbody tr th {\n",
              "        vertical-align: top;\n",
              "    }\n",
              "\n",
              "    .dataframe thead th {\n",
              "        text-align: right;\n",
              "    }\n",
              "</style>\n",
              "<table border=\"1\" class=\"dataframe\">\n",
              "  <thead>\n",
              "    <tr style=\"text-align: right;\">\n",
              "      <th></th>\n",
              "      <th>Name</th>\n",
              "      <th>Salary</th>\n",
              "      <th>Country</th>\n",
              "    </tr>\n",
              "  </thead>\n",
              "  <tbody>\n",
              "    <tr>\n",
              "      <th>0</th>\n",
              "      <td>Dan</td>\n",
              "      <td>40000</td>\n",
              "      <td>USA</td>\n",
              "    </tr>\n",
              "    <tr>\n",
              "      <th>1</th>\n",
              "      <td>Elizabeth</td>\n",
              "      <td>32000</td>\n",
              "      <td>Brazil</td>\n",
              "    </tr>\n",
              "    <tr>\n",
              "      <th>2</th>\n",
              "      <td>Jon</td>\n",
              "      <td>45000</td>\n",
              "      <td>Italy</td>\n",
              "    </tr>\n",
              "    <tr>\n",
              "      <th>3</th>\n",
              "      <td>Maria</td>\n",
              "      <td>54000</td>\n",
              "      <td>USA</td>\n",
              "    </tr>\n",
              "    <tr>\n",
              "      <th>4</th>\n",
              "      <td>Mark</td>\n",
              "      <td>72000</td>\n",
              "      <td>USA</td>\n",
              "    </tr>\n",
              "    <tr>\n",
              "      <th>5</th>\n",
              "      <td>Bill</td>\n",
              "      <td>62000</td>\n",
              "      <td>Brazil</td>\n",
              "    </tr>\n",
              "    <tr>\n",
              "      <th>6</th>\n",
              "      <td>Jess</td>\n",
              "      <td>92000</td>\n",
              "      <td>Italy</td>\n",
              "    </tr>\n",
              "    <tr>\n",
              "      <th>7</th>\n",
              "      <td>Julia</td>\n",
              "      <td>55000</td>\n",
              "      <td>USA</td>\n",
              "    </tr>\n",
              "    <tr>\n",
              "      <th>8</th>\n",
              "      <td>Jeff</td>\n",
              "      <td>35000</td>\n",
              "      <td>Italy</td>\n",
              "    </tr>\n",
              "    <tr>\n",
              "      <th>9</th>\n",
              "      <td>Ben</td>\n",
              "      <td>48000</td>\n",
              "      <td>Brazil</td>\n",
              "    </tr>\n",
              "  </tbody>\n",
              "</table>\n",
              "</div>"
            ],
            "text/plain": [
              "        Name  Salary Country\n",
              "0        Dan   40000     USA\n",
              "1  Elizabeth   32000  Brazil\n",
              "2        Jon   45000   Italy\n",
              "3      Maria   54000     USA\n",
              "4       Mark   72000     USA\n",
              "5       Bill   62000  Brazil\n",
              "6       Jess   92000   Italy\n",
              "7      Julia   55000     USA\n",
              "8       Jeff   35000   Italy\n",
              "9        Ben   48000  Brazil"
            ]
          },
          "execution_count": 3,
          "metadata": {},
          "output_type": "execute_result"
        }
      ]
    },
    {
      "cell_type": "markdown",
      "metadata": {
        "id": "bccead6c"
      },
      "source": [
        "Measure of Central Tendency"
      ],
      "id": "bccead6c"
    },
    {
      "cell_type": "code",
      "metadata": {
        "id": "5ec12dcb",
        "outputId": "9abfe136-38a2-4e0a-ff84-dd7230d13681"
      },
      "source": [
        "# Mean Salary\n",
        "mean1=df['Salary'].mean()\n",
        "mean1"
      ],
      "id": "5ec12dcb",
      "execution_count": null,
      "outputs": [
        {
          "data": {
            "text/plain": [
              "53500.0"
            ]
          },
          "execution_count": 4,
          "metadata": {},
          "output_type": "execute_result"
        }
      ]
    },
    {
      "cell_type": "code",
      "metadata": {
        "id": "a1f00197",
        "outputId": "b6b3f73a-b39c-4b14-c1e8-479e3b29efe3"
      },
      "source": [
        "# Sum of Salaries\n",
        "sum1=df['Salary'].sum()\n",
        "sum1"
      ],
      "id": "a1f00197",
      "execution_count": null,
      "outputs": [
        {
          "data": {
            "text/plain": [
              "535000"
            ]
          },
          "execution_count": 6,
          "metadata": {},
          "output_type": "execute_result"
        }
      ]
    },
    {
      "cell_type": "code",
      "metadata": {
        "id": "d1da930a",
        "outputId": "7a21c775-00c5-4cfb-a3c0-310ec9c00de5"
      },
      "source": [
        "# Maximum Salary\n",
        "max1=df['Salary'].max()\n",
        "max1"
      ],
      "id": "d1da930a",
      "execution_count": null,
      "outputs": [
        {
          "data": {
            "text/plain": [
              "92000"
            ]
          },
          "execution_count": 7,
          "metadata": {},
          "output_type": "execute_result"
        }
      ]
    },
    {
      "cell_type": "code",
      "metadata": {
        "id": "28ddc775",
        "outputId": "56c45eeb-b64b-4c1a-ccae-7f56d8f8d668"
      },
      "source": [
        "# Minimum Salary\n",
        "min1=df['Salary'].min()\n",
        "min1"
      ],
      "id": "28ddc775",
      "execution_count": null,
      "outputs": [
        {
          "data": {
            "text/plain": [
              "32000"
            ]
          },
          "execution_count": 8,
          "metadata": {},
          "output_type": "execute_result"
        }
      ]
    },
    {
      "cell_type": "code",
      "metadata": {
        "id": "31ab81d3",
        "outputId": "72424cfa-1939-4e4d-b854-03f16423b7e8"
      },
      "source": [
        "# Total Count\n",
        "count1=df['Salary'].count()\n",
        "count1"
      ],
      "id": "31ab81d3",
      "execution_count": null,
      "outputs": [
        {
          "data": {
            "text/plain": [
              "10"
            ]
          },
          "execution_count": 9,
          "metadata": {},
          "output_type": "execute_result"
        }
      ]
    },
    {
      "cell_type": "code",
      "metadata": {
        "id": "0867942d",
        "outputId": "904dd84d-f016-457d-f5b6-fc26d927cc07"
      },
      "source": [
        "# Median\n",
        "median=df['Salary'].median()\n",
        "median"
      ],
      "id": "0867942d",
      "execution_count": null,
      "outputs": [
        {
          "data": {
            "text/plain": [
              "51000.0"
            ]
          },
          "execution_count": 10,
          "metadata": {},
          "output_type": "execute_result"
        }
      ]
    },
    {
      "cell_type": "code",
      "metadata": {
        "id": "a5cc4fc9",
        "outputId": "3a3ba186-ebc4-4211-e602-9666db568cf3"
      },
      "source": [
        "# Mode\n",
        "mode1=df['Salary'].mode()\n",
        "mode1"
      ],
      "id": "a5cc4fc9",
      "execution_count": null,
      "outputs": [
        {
          "data": {
            "text/plain": [
              "0    32000\n",
              "1    35000\n",
              "2    40000\n",
              "3    45000\n",
              "4    48000\n",
              "5    54000\n",
              "6    55000\n",
              "7    62000\n",
              "8    72000\n",
              "9    92000\n",
              "dtype: int64"
            ]
          },
          "execution_count": 11,
          "metadata": {},
          "output_type": "execute_result"
        }
      ]
    },
    {
      "cell_type": "code",
      "metadata": {
        "id": "ad790eec",
        "outputId": "09326d7d-dcbd-460e-8d17-c23659b10fbb"
      },
      "source": [
        "countrywise_sum=df.groupby(['Country']).sum()\n",
        "countrywise_sum"
      ],
      "id": "ad790eec",
      "execution_count": null,
      "outputs": [
        {
          "data": {
            "text/html": [
              "<div>\n",
              "<style scoped>\n",
              "    .dataframe tbody tr th:only-of-type {\n",
              "        vertical-align: middle;\n",
              "    }\n",
              "\n",
              "    .dataframe tbody tr th {\n",
              "        vertical-align: top;\n",
              "    }\n",
              "\n",
              "    .dataframe thead th {\n",
              "        text-align: right;\n",
              "    }\n",
              "</style>\n",
              "<table border=\"1\" class=\"dataframe\">\n",
              "  <thead>\n",
              "    <tr style=\"text-align: right;\">\n",
              "      <th></th>\n",
              "      <th>Salary</th>\n",
              "    </tr>\n",
              "    <tr>\n",
              "      <th>Country</th>\n",
              "      <th></th>\n",
              "    </tr>\n",
              "  </thead>\n",
              "  <tbody>\n",
              "    <tr>\n",
              "      <th>Brazil</th>\n",
              "      <td>142000</td>\n",
              "    </tr>\n",
              "    <tr>\n",
              "      <th>Italy</th>\n",
              "      <td>172000</td>\n",
              "    </tr>\n",
              "    <tr>\n",
              "      <th>USA</th>\n",
              "      <td>221000</td>\n",
              "    </tr>\n",
              "  </tbody>\n",
              "</table>\n",
              "</div>"
            ],
            "text/plain": [
              "         Salary\n",
              "Country        \n",
              "Brazil   142000\n",
              "Italy    172000\n",
              "USA      221000"
            ]
          },
          "execution_count": 12,
          "metadata": {},
          "output_type": "execute_result"
        }
      ]
    },
    {
      "cell_type": "code",
      "metadata": {
        "id": "4b55f6cd",
        "outputId": "cf2c680a-14d3-405c-a675-4ded0004df56"
      },
      "source": [
        "countrywise_count=df.groupby(['Country']).count()\n",
        "countrywise_count"
      ],
      "id": "4b55f6cd",
      "execution_count": null,
      "outputs": [
        {
          "data": {
            "text/html": [
              "<div>\n",
              "<style scoped>\n",
              "    .dataframe tbody tr th:only-of-type {\n",
              "        vertical-align: middle;\n",
              "    }\n",
              "\n",
              "    .dataframe tbody tr th {\n",
              "        vertical-align: top;\n",
              "    }\n",
              "\n",
              "    .dataframe thead th {\n",
              "        text-align: right;\n",
              "    }\n",
              "</style>\n",
              "<table border=\"1\" class=\"dataframe\">\n",
              "  <thead>\n",
              "    <tr style=\"text-align: right;\">\n",
              "      <th></th>\n",
              "      <th>Name</th>\n",
              "      <th>Salary</th>\n",
              "    </tr>\n",
              "    <tr>\n",
              "      <th>Country</th>\n",
              "      <th></th>\n",
              "      <th></th>\n",
              "    </tr>\n",
              "  </thead>\n",
              "  <tbody>\n",
              "    <tr>\n",
              "      <th>Brazil</th>\n",
              "      <td>3</td>\n",
              "      <td>3</td>\n",
              "    </tr>\n",
              "    <tr>\n",
              "      <th>Italy</th>\n",
              "      <td>3</td>\n",
              "      <td>3</td>\n",
              "    </tr>\n",
              "    <tr>\n",
              "      <th>USA</th>\n",
              "      <td>4</td>\n",
              "      <td>4</td>\n",
              "    </tr>\n",
              "  </tbody>\n",
              "</table>\n",
              "</div>"
            ],
            "text/plain": [
              "         Name  Salary\n",
              "Country              \n",
              "Brazil      3       3\n",
              "Italy       3       3\n",
              "USA         4       4"
            ]
          },
          "execution_count": 13,
          "metadata": {},
          "output_type": "execute_result"
        }
      ]
    },
    {
      "cell_type": "markdown",
      "metadata": {
        "id": "0a03a987"
      },
      "source": [
        "Measure of Variability"
      ],
      "id": "0a03a987"
    },
    {
      "cell_type": "code",
      "metadata": {
        "id": "30019f1e",
        "outputId": "3895bf67-6a25-44f9-f5f6-feda846f2510"
      },
      "source": [
        "# Variance of salaries\n",
        "var1=df['Salary'].var()\n",
        "var1"
      ],
      "id": "30019f1e",
      "execution_count": null,
      "outputs": [
        {
          "data": {
            "text/plain": [
              "332055555.5555556"
            ]
          },
          "execution_count": 14,
          "metadata": {},
          "output_type": "execute_result"
        }
      ]
    },
    {
      "cell_type": "code",
      "metadata": {
        "id": "9b79ce88",
        "outputId": "ce5fb70b-f071-47db-a432-18201724c2a7"
      },
      "source": [
        "# Standard deviation\n",
        "std1=df['Salary'].std()\n",
        "std1"
      ],
      "id": "9b79ce88",
      "execution_count": null,
      "outputs": [
        {
          "data": {
            "text/plain": [
              "18222.391598128816"
            ]
          },
          "execution_count": 15,
          "metadata": {},
          "output_type": "execute_result"
        }
      ]
    },
    {
      "cell_type": "markdown",
      "metadata": {
        "id": "cc7a2686"
      },
      "source": [
        "Measure of Symmetry"
      ],
      "id": "cc7a2686"
    },
    {
      "cell_type": "code",
      "metadata": {
        "id": "9b3fa3e9",
        "outputId": "9273ae1e-f0eb-46c8-dbbd-2ed2f913cdc9"
      },
      "source": [
        "skew1=df.skew(axis=0, skipna=True)\n",
        "skew1"
      ],
      "id": "9b3fa3e9",
      "execution_count": null,
      "outputs": [
        {
          "data": {
            "text/plain": [
              "Salary    1.021551\n",
              "dtype: float64"
            ]
          },
          "execution_count": 16,
          "metadata": {},
          "output_type": "execute_result"
        }
      ]
    },
    {
      "cell_type": "code",
      "metadata": {
        "id": "e03dddca"
      },
      "source": [
        "# The Skewness is positive so x will have right side tail."
      ],
      "id": "e03dddca",
      "execution_count": null,
      "outputs": []
    },
    {
      "cell_type": "markdown",
      "metadata": {
        "id": "651a8f41"
      },
      "source": [
        "# Covariance and Correlation"
      ],
      "id": "651a8f41"
    },
    {
      "cell_type": "code",
      "metadata": {
        "id": "21858537",
        "outputId": "c8b07ced-9a90-4752-8e7d-cfb007f1c960"
      },
      "source": [
        "import pandas as pd\n",
        "bw=pd.read_csv('C:/Users/Harish/Downloads/BirthWeight.csv')\n",
        "bw.head()"
      ],
      "id": "21858537",
      "execution_count": null,
      "outputs": [
        {
          "data": {
            "text/html": [
              "<div>\n",
              "<style scoped>\n",
              "    .dataframe tbody tr th:only-of-type {\n",
              "        vertical-align: middle;\n",
              "    }\n",
              "\n",
              "    .dataframe tbody tr th {\n",
              "        vertical-align: top;\n",
              "    }\n",
              "\n",
              "    .dataframe thead th {\n",
              "        text-align: right;\n",
              "    }\n",
              "</style>\n",
              "<table border=\"1\" class=\"dataframe\">\n",
              "  <thead>\n",
              "    <tr style=\"text-align: right;\">\n",
              "      <th></th>\n",
              "      <th>Infant ID</th>\n",
              "      <th>Gestational Age (Weeks)</th>\n",
              "      <th>Birth Weight (Grams)</th>\n",
              "    </tr>\n",
              "  </thead>\n",
              "  <tbody>\n",
              "    <tr>\n",
              "      <th>0</th>\n",
              "      <td>1</td>\n",
              "      <td>34.7</td>\n",
              "      <td>1895</td>\n",
              "    </tr>\n",
              "    <tr>\n",
              "      <th>1</th>\n",
              "      <td>2</td>\n",
              "      <td>36.0</td>\n",
              "      <td>2030</td>\n",
              "    </tr>\n",
              "    <tr>\n",
              "      <th>2</th>\n",
              "      <td>3</td>\n",
              "      <td>29.3</td>\n",
              "      <td>1440</td>\n",
              "    </tr>\n",
              "    <tr>\n",
              "      <th>3</th>\n",
              "      <td>4</td>\n",
              "      <td>40.1</td>\n",
              "      <td>2835</td>\n",
              "    </tr>\n",
              "    <tr>\n",
              "      <th>4</th>\n",
              "      <td>5</td>\n",
              "      <td>35.7</td>\n",
              "      <td>3090</td>\n",
              "    </tr>\n",
              "  </tbody>\n",
              "</table>\n",
              "</div>"
            ],
            "text/plain": [
              "   Infant ID  Gestational Age (Weeks)  Birth Weight (Grams)\n",
              "0          1                     34.7                  1895\n",
              "1          2                     36.0                  2030\n",
              "2          3                     29.3                  1440\n",
              "3          4                     40.1                  2835\n",
              "4          5                     35.7                  3090"
            ]
          },
          "execution_count": 18,
          "metadata": {},
          "output_type": "execute_result"
        }
      ]
    },
    {
      "cell_type": "code",
      "metadata": {
        "id": "0db65cb5",
        "outputId": "c445b31a-5b0a-4c61-8d51-25795f381180"
      },
      "source": [
        "bw.set_index('Infant ID', inplace=True)\n",
        "bw.head()"
      ],
      "id": "0db65cb5",
      "execution_count": null,
      "outputs": [
        {
          "data": {
            "text/html": [
              "<div>\n",
              "<style scoped>\n",
              "    .dataframe tbody tr th:only-of-type {\n",
              "        vertical-align: middle;\n",
              "    }\n",
              "\n",
              "    .dataframe tbody tr th {\n",
              "        vertical-align: top;\n",
              "    }\n",
              "\n",
              "    .dataframe thead th {\n",
              "        text-align: right;\n",
              "    }\n",
              "</style>\n",
              "<table border=\"1\" class=\"dataframe\">\n",
              "  <thead>\n",
              "    <tr style=\"text-align: right;\">\n",
              "      <th></th>\n",
              "      <th>Gestational Age (Weeks)</th>\n",
              "      <th>Birth Weight (Grams)</th>\n",
              "    </tr>\n",
              "    <tr>\n",
              "      <th>Infant ID</th>\n",
              "      <th></th>\n",
              "      <th></th>\n",
              "    </tr>\n",
              "  </thead>\n",
              "  <tbody>\n",
              "    <tr>\n",
              "      <th>1</th>\n",
              "      <td>34.7</td>\n",
              "      <td>1895</td>\n",
              "    </tr>\n",
              "    <tr>\n",
              "      <th>2</th>\n",
              "      <td>36.0</td>\n",
              "      <td>2030</td>\n",
              "    </tr>\n",
              "    <tr>\n",
              "      <th>3</th>\n",
              "      <td>29.3</td>\n",
              "      <td>1440</td>\n",
              "    </tr>\n",
              "    <tr>\n",
              "      <th>4</th>\n",
              "      <td>40.1</td>\n",
              "      <td>2835</td>\n",
              "    </tr>\n",
              "    <tr>\n",
              "      <th>5</th>\n",
              "      <td>35.7</td>\n",
              "      <td>3090</td>\n",
              "    </tr>\n",
              "  </tbody>\n",
              "</table>\n",
              "</div>"
            ],
            "text/plain": [
              "           Gestational Age (Weeks)  Birth Weight (Grams)\n",
              "Infant ID                                               \n",
              "1                             34.7                  1895\n",
              "2                             36.0                  2030\n",
              "3                             29.3                  1440\n",
              "4                             40.1                  2835\n",
              "5                             35.7                  3090"
            ]
          },
          "execution_count": 19,
          "metadata": {},
          "output_type": "execute_result"
        }
      ]
    },
    {
      "cell_type": "code",
      "metadata": {
        "id": "336a49fb",
        "outputId": "afbbe36f-328d-4e1a-fa11-5b01c033adb2"
      },
      "source": [
        "bw.cov()"
      ],
      "id": "336a49fb",
      "execution_count": null,
      "outputs": [
        {
          "data": {
            "text/html": [
              "<div>\n",
              "<style scoped>\n",
              "    .dataframe tbody tr th:only-of-type {\n",
              "        vertical-align: middle;\n",
              "    }\n",
              "\n",
              "    .dataframe tbody tr th {\n",
              "        vertical-align: top;\n",
              "    }\n",
              "\n",
              "    .dataframe thead th {\n",
              "        text-align: right;\n",
              "    }\n",
              "</style>\n",
              "<table border=\"1\" class=\"dataframe\">\n",
              "  <thead>\n",
              "    <tr style=\"text-align: right;\">\n",
              "      <th></th>\n",
              "      <th>Gestational Age (Weeks)</th>\n",
              "      <th>Birth Weight (Grams)</th>\n",
              "    </tr>\n",
              "  </thead>\n",
              "  <tbody>\n",
              "    <tr>\n",
              "      <th>Gestational Age (Weeks)</th>\n",
              "      <td>9.963824</td>\n",
              "      <td>1798.025</td>\n",
              "    </tr>\n",
              "    <tr>\n",
              "      <th>Birth Weight (Grams)</th>\n",
              "      <td>1798.025000</td>\n",
              "      <td>485478.750</td>\n",
              "    </tr>\n",
              "  </tbody>\n",
              "</table>\n",
              "</div>"
            ],
            "text/plain": [
              "                         Gestational Age (Weeks)  Birth Weight (Grams)\n",
              "Gestational Age (Weeks)                 9.963824              1798.025\n",
              "Birth Weight (Grams)                 1798.025000            485478.750"
            ]
          },
          "execution_count": 20,
          "metadata": {},
          "output_type": "execute_result"
        }
      ]
    },
    {
      "cell_type": "code",
      "metadata": {
        "id": "d3bd9e25",
        "outputId": "27176fdf-d3a7-4c62-87b9-ae176e71f6d5"
      },
      "source": [
        "bw.corr(method=\"pearson\")"
      ],
      "id": "d3bd9e25",
      "execution_count": null,
      "outputs": [
        {
          "data": {
            "text/html": [
              "<div>\n",
              "<style scoped>\n",
              "    .dataframe tbody tr th:only-of-type {\n",
              "        vertical-align: middle;\n",
              "    }\n",
              "\n",
              "    .dataframe tbody tr th {\n",
              "        vertical-align: top;\n",
              "    }\n",
              "\n",
              "    .dataframe thead th {\n",
              "        text-align: right;\n",
              "    }\n",
              "</style>\n",
              "<table border=\"1\" class=\"dataframe\">\n",
              "  <thead>\n",
              "    <tr style=\"text-align: right;\">\n",
              "      <th></th>\n",
              "      <th>Gestational Age (Weeks)</th>\n",
              "      <th>Birth Weight (Grams)</th>\n",
              "    </tr>\n",
              "  </thead>\n",
              "  <tbody>\n",
              "    <tr>\n",
              "      <th>Gestational Age (Weeks)</th>\n",
              "      <td>1.000000</td>\n",
              "      <td>0.817519</td>\n",
              "    </tr>\n",
              "    <tr>\n",
              "      <th>Birth Weight (Grams)</th>\n",
              "      <td>0.817519</td>\n",
              "      <td>1.000000</td>\n",
              "    </tr>\n",
              "  </tbody>\n",
              "</table>\n",
              "</div>"
            ],
            "text/plain": [
              "                         Gestational Age (Weeks)  Birth Weight (Grams)\n",
              "Gestational Age (Weeks)                 1.000000              0.817519\n",
              "Birth Weight (Grams)                    0.817519              1.000000"
            ]
          },
          "execution_count": 21,
          "metadata": {},
          "output_type": "execute_result"
        }
      ]
    },
    {
      "cell_type": "code",
      "metadata": {
        "id": "25cfd103"
      },
      "source": [
        "# Covariance indicates that there is correlation exists between two Correlation coefficient of 0.818 indicates the relation between two variable is strong. "
      ],
      "id": "25cfd103",
      "execution_count": null,
      "outputs": []
    },
    {
      "cell_type": "code",
      "metadata": {
        "id": "daede55b"
      },
      "source": [
        "#importing required libraries\n",
        "\n",
        "import pandas as pd\n",
        "import numpy as np\n",
        "import matplotlib.pyplot as plt\n",
        "import seaborn as sns\n",
        "from scipy.stats import skew\n",
        "from scipy.stats import kurtosis"
      ],
      "id": "daede55b",
      "execution_count": null,
      "outputs": []
    },
    {
      "cell_type": "code",
      "metadata": {
        "id": "b8209d0d"
      },
      "source": [
        "pd.set_option(\"display.max_columns\",None)\n",
        "pd.options.display.float_format = \"{:,.2f}\".format"
      ],
      "id": "b8209d0d",
      "execution_count": null,
      "outputs": []
    },
    {
      "cell_type": "markdown",
      "metadata": {
        "id": "fdcc42db"
      },
      "source": [
        "Format : A data frame with 53940 rows and 10 variables\n",
        "\n",
        "Description : A dataset containing the prices and other attributes of almost 54,000 diamonds.\n",
        "\n",
        "The variables are as follows:\n",
        "\n",
        "price: price in US dollars ($326--$18,823)\n",
        "carat: weight of the diamond (0.2--5.01)\n",
        "cut: quality of the cut (Fair, Good, Very Good, Premium, Ideal)\n",
        "colour: diamond colour, from J (worst) to D (best)\n",
        "clarity: a measurement of how clear the diamond is (IF (best), VVS1, VVS2, VS1, VS2, SI1, SI2, I1 (worst) )\n",
        "popularity: popularity of this specs (Good, Fair, Poor)\n",
        "x: length in mm (0--10.74)\n",
        "y: width in mm (0--58.9)\n",
        "z: depth in mm (0--31.8)\n",
        "depth: total depth percentage = z / mean(x,y) = 2 * z /(x+y) (43--79) \n",
        "table: width of top of diamondrelative to widest point (43--95)"
      ],
      "id": "fdcc42db"
    },
    {
      "cell_type": "code",
      "metadata": {
        "id": "864e6ef3"
      },
      "source": [
        "# reading data from csv file\n",
        "xls = pd.read_csv(\"C:/Users/Harish/Downloads/diamonds.csv\")"
      ],
      "id": "864e6ef3",
      "execution_count": null,
      "outputs": []
    },
    {
      "cell_type": "code",
      "metadata": {
        "id": "a2a40627",
        "outputId": "44b787b0-8334-4948-f0e2-1c9c7fc2cc94"
      },
      "source": [
        "xls.head()"
      ],
      "id": "a2a40627",
      "execution_count": null,
      "outputs": [
        {
          "data": {
            "text/html": [
              "<div>\n",
              "<style scoped>\n",
              "    .dataframe tbody tr th:only-of-type {\n",
              "        vertical-align: middle;\n",
              "    }\n",
              "\n",
              "    .dataframe tbody tr th {\n",
              "        vertical-align: top;\n",
              "    }\n",
              "\n",
              "    .dataframe thead th {\n",
              "        text-align: right;\n",
              "    }\n",
              "</style>\n",
              "<table border=\"1\" class=\"dataframe\">\n",
              "  <thead>\n",
              "    <tr style=\"text-align: right;\">\n",
              "      <th></th>\n",
              "      <th>id</th>\n",
              "      <th>carat</th>\n",
              "      <th>cut</th>\n",
              "      <th>color</th>\n",
              "      <th>clarity</th>\n",
              "      <th>depth</th>\n",
              "      <th>table</th>\n",
              "      <th>price</th>\n",
              "      <th>x</th>\n",
              "      <th>y</th>\n",
              "      <th>z</th>\n",
              "    </tr>\n",
              "  </thead>\n",
              "  <tbody>\n",
              "    <tr>\n",
              "      <th>0</th>\n",
              "      <td>1</td>\n",
              "      <td>0.23</td>\n",
              "      <td>Ideal</td>\n",
              "      <td>E</td>\n",
              "      <td>SI2</td>\n",
              "      <td>61.50</td>\n",
              "      <td>55.00</td>\n",
              "      <td>326</td>\n",
              "      <td>3.95</td>\n",
              "      <td>3.98</td>\n",
              "      <td>2.43</td>\n",
              "    </tr>\n",
              "    <tr>\n",
              "      <th>1</th>\n",
              "      <td>2</td>\n",
              "      <td>0.21</td>\n",
              "      <td>Premium</td>\n",
              "      <td>E</td>\n",
              "      <td>SI1</td>\n",
              "      <td>59.80</td>\n",
              "      <td>61.00</td>\n",
              "      <td>326</td>\n",
              "      <td>3.89</td>\n",
              "      <td>3.84</td>\n",
              "      <td>2.31</td>\n",
              "    </tr>\n",
              "    <tr>\n",
              "      <th>2</th>\n",
              "      <td>3</td>\n",
              "      <td>0.23</td>\n",
              "      <td>Good</td>\n",
              "      <td>E</td>\n",
              "      <td>VS1</td>\n",
              "      <td>56.90</td>\n",
              "      <td>65.00</td>\n",
              "      <td>327</td>\n",
              "      <td>4.05</td>\n",
              "      <td>4.07</td>\n",
              "      <td>2.31</td>\n",
              "    </tr>\n",
              "    <tr>\n",
              "      <th>3</th>\n",
              "      <td>4</td>\n",
              "      <td>0.29</td>\n",
              "      <td>Premium</td>\n",
              "      <td>I</td>\n",
              "      <td>VS2</td>\n",
              "      <td>62.40</td>\n",
              "      <td>58.00</td>\n",
              "      <td>334</td>\n",
              "      <td>4.20</td>\n",
              "      <td>4.23</td>\n",
              "      <td>2.63</td>\n",
              "    </tr>\n",
              "    <tr>\n",
              "      <th>4</th>\n",
              "      <td>5</td>\n",
              "      <td>0.31</td>\n",
              "      <td>Good</td>\n",
              "      <td>J</td>\n",
              "      <td>SI2</td>\n",
              "      <td>63.30</td>\n",
              "      <td>58.00</td>\n",
              "      <td>335</td>\n",
              "      <td>4.34</td>\n",
              "      <td>4.35</td>\n",
              "      <td>2.75</td>\n",
              "    </tr>\n",
              "  </tbody>\n",
              "</table>\n",
              "</div>"
            ],
            "text/plain": [
              "   id  carat      cut color clarity  depth  table  price    x    y    z\n",
              "0   1   0.23    Ideal     E     SI2  61.50  55.00    326 3.95 3.98 2.43\n",
              "1   2   0.21  Premium     E     SI1  59.80  61.00    326 3.89 3.84 2.31\n",
              "2   3   0.23     Good     E     VS1  56.90  65.00    327 4.05 4.07 2.31\n",
              "3   4   0.29  Premium     I     VS2  62.40  58.00    334 4.20 4.23 2.63\n",
              "4   5   0.31     Good     J     SI2  63.30  58.00    335 4.34 4.35 2.75"
            ]
          },
          "execution_count": 5,
          "metadata": {},
          "output_type": "execute_result"
        }
      ]
    },
    {
      "cell_type": "code",
      "metadata": {
        "id": "15d1d546",
        "outputId": "a8c6ec78-fe4f-48de-d377-447150341caa"
      },
      "source": [
        "des_df = xls.drop(['id'],axis= 1) #drop id colums\n",
        "for col in des_df:            #drop all alpha-numeric colms\n",
        "    if des_df[col].dtype =='object':\n",
        "        des_df = des_df.drop([col],axis = 1)\n",
        "        \n",
        "des_r = des_df.describe()\n",
        "des_df = des_r.rename(index={'50%':'median/50%'})\n",
        "des_r"
      ],
      "id": "15d1d546",
      "execution_count": null,
      "outputs": [
        {
          "data": {
            "text/html": [
              "<div>\n",
              "<style scoped>\n",
              "    .dataframe tbody tr th:only-of-type {\n",
              "        vertical-align: middle;\n",
              "    }\n",
              "\n",
              "    .dataframe tbody tr th {\n",
              "        vertical-align: top;\n",
              "    }\n",
              "\n",
              "    .dataframe thead th {\n",
              "        text-align: right;\n",
              "    }\n",
              "</style>\n",
              "<table border=\"1\" class=\"dataframe\">\n",
              "  <thead>\n",
              "    <tr style=\"text-align: right;\">\n",
              "      <th></th>\n",
              "      <th>carat</th>\n",
              "      <th>depth</th>\n",
              "      <th>table</th>\n",
              "      <th>price</th>\n",
              "      <th>x</th>\n",
              "      <th>y</th>\n",
              "      <th>z</th>\n",
              "    </tr>\n",
              "  </thead>\n",
              "  <tbody>\n",
              "    <tr>\n",
              "      <th>count</th>\n",
              "      <td>53,940.00</td>\n",
              "      <td>53,940.00</td>\n",
              "      <td>53,940.00</td>\n",
              "      <td>53,940.00</td>\n",
              "      <td>53,940.00</td>\n",
              "      <td>53,940.00</td>\n",
              "      <td>53,940.00</td>\n",
              "    </tr>\n",
              "    <tr>\n",
              "      <th>mean</th>\n",
              "      <td>0.80</td>\n",
              "      <td>61.75</td>\n",
              "      <td>57.46</td>\n",
              "      <td>3,932.80</td>\n",
              "      <td>5.73</td>\n",
              "      <td>5.73</td>\n",
              "      <td>3.54</td>\n",
              "    </tr>\n",
              "    <tr>\n",
              "      <th>std</th>\n",
              "      <td>0.47</td>\n",
              "      <td>1.43</td>\n",
              "      <td>2.23</td>\n",
              "      <td>3,989.44</td>\n",
              "      <td>1.12</td>\n",
              "      <td>1.14</td>\n",
              "      <td>0.71</td>\n",
              "    </tr>\n",
              "    <tr>\n",
              "      <th>min</th>\n",
              "      <td>0.20</td>\n",
              "      <td>43.00</td>\n",
              "      <td>43.00</td>\n",
              "      <td>326.00</td>\n",
              "      <td>0.00</td>\n",
              "      <td>0.00</td>\n",
              "      <td>0.00</td>\n",
              "    </tr>\n",
              "    <tr>\n",
              "      <th>25%</th>\n",
              "      <td>0.40</td>\n",
              "      <td>61.00</td>\n",
              "      <td>56.00</td>\n",
              "      <td>950.00</td>\n",
              "      <td>4.71</td>\n",
              "      <td>4.72</td>\n",
              "      <td>2.91</td>\n",
              "    </tr>\n",
              "    <tr>\n",
              "      <th>50%</th>\n",
              "      <td>0.70</td>\n",
              "      <td>61.80</td>\n",
              "      <td>57.00</td>\n",
              "      <td>2,401.00</td>\n",
              "      <td>5.70</td>\n",
              "      <td>5.71</td>\n",
              "      <td>3.53</td>\n",
              "    </tr>\n",
              "    <tr>\n",
              "      <th>75%</th>\n",
              "      <td>1.04</td>\n",
              "      <td>62.50</td>\n",
              "      <td>59.00</td>\n",
              "      <td>5,324.25</td>\n",
              "      <td>6.54</td>\n",
              "      <td>6.54</td>\n",
              "      <td>4.04</td>\n",
              "    </tr>\n",
              "    <tr>\n",
              "      <th>max</th>\n",
              "      <td>5.01</td>\n",
              "      <td>79.00</td>\n",
              "      <td>95.00</td>\n",
              "      <td>18,823.00</td>\n",
              "      <td>10.74</td>\n",
              "      <td>58.90</td>\n",
              "      <td>31.80</td>\n",
              "    </tr>\n",
              "  </tbody>\n",
              "</table>\n",
              "</div>"
            ],
            "text/plain": [
              "          carat     depth     table     price         x         y         z\n",
              "count 53,940.00 53,940.00 53,940.00 53,940.00 53,940.00 53,940.00 53,940.00\n",
              "mean       0.80     61.75     57.46  3,932.80      5.73      5.73      3.54\n",
              "std        0.47      1.43      2.23  3,989.44      1.12      1.14      0.71\n",
              "min        0.20     43.00     43.00    326.00      0.00      0.00      0.00\n",
              "25%        0.40     61.00     56.00    950.00      4.71      4.72      2.91\n",
              "50%        0.70     61.80     57.00  2,401.00      5.70      5.71      3.53\n",
              "75%        1.04     62.50     59.00  5,324.25      6.54      6.54      4.04\n",
              "max        5.01     79.00     95.00 18,823.00     10.74     58.90     31.80"
            ]
          },
          "execution_count": 6,
          "metadata": {},
          "output_type": "execute_result"
        }
      ]
    },
    {
      "cell_type": "code",
      "metadata": {
        "id": "ae7fb8b8",
        "outputId": "3542aeba-96b2-4a62-cb16-b5852e21de03"
      },
      "source": [
        "var_r = des_df.var() #Calculating variance seperately\n",
        "\n",
        "varlist = []\n",
        "for col in des_df.columns:\n",
        "    if des_df[col].dtype == 'object':\n",
        "        continue\n",
        "    varlist.append(round(des_df[col],5))\n",
        "\n",
        "df = pd.DataFrame([varlist],columns=des_r.columns,index=['var'])\n",
        "mct = des_r.append(df) #Adding var to describe result\n",
        "mct"
      ],
      "id": "ae7fb8b8",
      "execution_count": null,
      "outputs": [
        {
          "data": {
            "text/html": [
              "<div>\n",
              "<style scoped>\n",
              "    .dataframe tbody tr th:only-of-type {\n",
              "        vertical-align: middle;\n",
              "    }\n",
              "\n",
              "    .dataframe tbody tr th {\n",
              "        vertical-align: top;\n",
              "    }\n",
              "\n",
              "    .dataframe thead th {\n",
              "        text-align: right;\n",
              "    }\n",
              "</style>\n",
              "<table border=\"1\" class=\"dataframe\">\n",
              "  <thead>\n",
              "    <tr style=\"text-align: right;\">\n",
              "      <th></th>\n",
              "      <th>carat</th>\n",
              "      <th>depth</th>\n",
              "      <th>table</th>\n",
              "      <th>price</th>\n",
              "      <th>x</th>\n",
              "      <th>y</th>\n",
              "      <th>z</th>\n",
              "    </tr>\n",
              "  </thead>\n",
              "  <tbody>\n",
              "    <tr>\n",
              "      <th>count</th>\n",
              "      <td>53,940.00</td>\n",
              "      <td>53,940.00</td>\n",
              "      <td>53,940.00</td>\n",
              "      <td>53,940.00</td>\n",
              "      <td>53,940.00</td>\n",
              "      <td>53,940.00</td>\n",
              "      <td>53,940.00</td>\n",
              "    </tr>\n",
              "    <tr>\n",
              "      <th>mean</th>\n",
              "      <td>0.80</td>\n",
              "      <td>61.75</td>\n",
              "      <td>57.46</td>\n",
              "      <td>3,932.80</td>\n",
              "      <td>5.73</td>\n",
              "      <td>5.73</td>\n",
              "      <td>3.54</td>\n",
              "    </tr>\n",
              "    <tr>\n",
              "      <th>std</th>\n",
              "      <td>0.47</td>\n",
              "      <td>1.43</td>\n",
              "      <td>2.23</td>\n",
              "      <td>3,989.44</td>\n",
              "      <td>1.12</td>\n",
              "      <td>1.14</td>\n",
              "      <td>0.71</td>\n",
              "    </tr>\n",
              "    <tr>\n",
              "      <th>min</th>\n",
              "      <td>0.20</td>\n",
              "      <td>43.00</td>\n",
              "      <td>43.00</td>\n",
              "      <td>326.00</td>\n",
              "      <td>0.00</td>\n",
              "      <td>0.00</td>\n",
              "      <td>0.00</td>\n",
              "    </tr>\n",
              "    <tr>\n",
              "      <th>25%</th>\n",
              "      <td>0.40</td>\n",
              "      <td>61.00</td>\n",
              "      <td>56.00</td>\n",
              "      <td>950.00</td>\n",
              "      <td>4.71</td>\n",
              "      <td>4.72</td>\n",
              "      <td>2.91</td>\n",
              "    </tr>\n",
              "    <tr>\n",
              "      <th>50%</th>\n",
              "      <td>0.70</td>\n",
              "      <td>61.80</td>\n",
              "      <td>57.00</td>\n",
              "      <td>2,401.00</td>\n",
              "      <td>5.70</td>\n",
              "      <td>5.71</td>\n",
              "      <td>3.53</td>\n",
              "    </tr>\n",
              "    <tr>\n",
              "      <th>75%</th>\n",
              "      <td>1.04</td>\n",
              "      <td>62.50</td>\n",
              "      <td>59.00</td>\n",
              "      <td>5,324.25</td>\n",
              "      <td>6.54</td>\n",
              "      <td>6.54</td>\n",
              "      <td>4.04</td>\n",
              "    </tr>\n",
              "    <tr>\n",
              "      <th>max</th>\n",
              "      <td>5.01</td>\n",
              "      <td>79.00</td>\n",
              "      <td>95.00</td>\n",
              "      <td>18,823.00</td>\n",
              "      <td>10.74</td>\n",
              "      <td>58.90</td>\n",
              "      <td>31.80</td>\n",
              "    </tr>\n",
              "    <tr>\n",
              "      <th>var</th>\n",
              "      <td>count        53,940.00\n",
              "mean              0.80\n",
              "...</td>\n",
              "      <td>count        53,940.00\n",
              "mean             61.75\n",
              "...</td>\n",
              "      <td>count        53,940.00\n",
              "mean             57.46\n",
              "...</td>\n",
              "      <td>count        53,940.00\n",
              "mean          3,932.80\n",
              "...</td>\n",
              "      <td>count        53,940.00\n",
              "mean              5.73\n",
              "...</td>\n",
              "      <td>count        53,940.00\n",
              "mean              5.73\n",
              "...</td>\n",
              "      <td>count        53,940.00\n",
              "mean              3.54\n",
              "...</td>\n",
              "    </tr>\n",
              "  </tbody>\n",
              "</table>\n",
              "</div>"
            ],
            "text/plain": [
              "                                                   carat  \\\n",
              "count                                          53,940.00   \n",
              "mean                                                0.80   \n",
              "std                                                 0.47   \n",
              "min                                                 0.20   \n",
              "25%                                                 0.40   \n",
              "50%                                                 0.70   \n",
              "75%                                                 1.04   \n",
              "max                                                 5.01   \n",
              "var    count        53,940.00\n",
              "mean              0.80\n",
              "...   \n",
              "\n",
              "                                                   depth  \\\n",
              "count                                          53,940.00   \n",
              "mean                                               61.75   \n",
              "std                                                 1.43   \n",
              "min                                                43.00   \n",
              "25%                                                61.00   \n",
              "50%                                                61.80   \n",
              "75%                                                62.50   \n",
              "max                                                79.00   \n",
              "var    count        53,940.00\n",
              "mean             61.75\n",
              "...   \n",
              "\n",
              "                                                   table  \\\n",
              "count                                          53,940.00   \n",
              "mean                                               57.46   \n",
              "std                                                 2.23   \n",
              "min                                                43.00   \n",
              "25%                                                56.00   \n",
              "50%                                                57.00   \n",
              "75%                                                59.00   \n",
              "max                                                95.00   \n",
              "var    count        53,940.00\n",
              "mean             57.46\n",
              "...   \n",
              "\n",
              "                                                   price  \\\n",
              "count                                          53,940.00   \n",
              "mean                                            3,932.80   \n",
              "std                                             3,989.44   \n",
              "min                                               326.00   \n",
              "25%                                               950.00   \n",
              "50%                                             2,401.00   \n",
              "75%                                             5,324.25   \n",
              "max                                            18,823.00   \n",
              "var    count        53,940.00\n",
              "mean          3,932.80\n",
              "...   \n",
              "\n",
              "                                                       x  \\\n",
              "count                                          53,940.00   \n",
              "mean                                                5.73   \n",
              "std                                                 1.12   \n",
              "min                                                 0.00   \n",
              "25%                                                 4.71   \n",
              "50%                                                 5.70   \n",
              "75%                                                 6.54   \n",
              "max                                                10.74   \n",
              "var    count        53,940.00\n",
              "mean              5.73\n",
              "...   \n",
              "\n",
              "                                                       y  \\\n",
              "count                                          53,940.00   \n",
              "mean                                                5.73   \n",
              "std                                                 1.14   \n",
              "min                                                 0.00   \n",
              "25%                                                 4.72   \n",
              "50%                                                 5.71   \n",
              "75%                                                 6.54   \n",
              "max                                                58.90   \n",
              "var    count        53,940.00\n",
              "mean              5.73\n",
              "...   \n",
              "\n",
              "                                                       z  \n",
              "count                                          53,940.00  \n",
              "mean                                                3.54  \n",
              "std                                                 0.71  \n",
              "min                                                 0.00  \n",
              "25%                                                 2.91  \n",
              "50%                                                 3.53  \n",
              "75%                                                 4.04  \n",
              "max                                                31.80  \n",
              "var    count        53,940.00\n",
              "mean              3.54\n",
              "...  "
            ]
          },
          "execution_count": 7,
          "metadata": {},
          "output_type": "execute_result"
        }
      ]
    },
    {
      "cell_type": "code",
      "metadata": {
        "id": "eb38ea73"
      },
      "source": [
        ""
      ],
      "id": "eb38ea73",
      "execution_count": null,
      "outputs": []
    }
  ]
}